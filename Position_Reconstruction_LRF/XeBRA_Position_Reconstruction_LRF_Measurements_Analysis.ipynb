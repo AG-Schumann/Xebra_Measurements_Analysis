{
 "cells": [
  {
   "cell_type": "markdown",
   "metadata": {},
   "source": [
    "# Position Reconstruction for XeBRA - Measurements Analysis\n",
    "\n",
    "**Status:** August 2019\n",
    "\n",
    "Position reconstruction for XeBRA following the position reconstruction algorithm of Mercury (employed in the LUX experiment, originally developed for the ZEPLIN-III dark matter experiment) with light response functions (see https://arxiv.org/abs/1710.02752v2 and https://arxiv.org/abs/1112.1481 )."
   ]
  },
  {
   "cell_type": "code",
   "execution_count": 1,
   "metadata": {
    "ExecuteTime": {
     "end_time": "2019-08-22T13:57:14.111252Z",
     "start_time": "2019-08-22T13:57:12.462302Z"
    }
   },
   "outputs": [],
   "source": [
    "#### Imports:\n",
    "\n",
    "import sys\n",
    "\n",
    "import numpy as np\n",
    "from numpy import exp\n",
    "import matplotlib\n",
    "import matplotlib.pyplot as plt\n",
    "from matplotlib.ticker import AutoMinorLocator\n",
    "from matplotlib import gridspec\n",
    "from matplotlib.image import NonUniformImage\n",
    "from matplotlib.patches import Rectangle\n",
    "%matplotlib inline\n",
    "\n",
    "import pandas as pd\n",
    "import math\n",
    "\n",
    "from scipy import optimize\n",
    "from scipy.optimize import curve_fit\n",
    "from scipy.optimize import minimize\n",
    "from scipy import stats\n",
    "from pylab import meshgrid,cm,imshow,contour,clabel,colorbar,axis,title,show\n",
    "from scipy.interpolate import spline\n",
    "from scipy.interpolate import make_interp_spline, BSpline\n",
    "from scipy.interpolate import griddata\n",
    "from scipy.stats import chisquare\n",
    "from scipy.stats import power_divergence"
   ]
  },
  {
   "cell_type": "markdown",
   "metadata": {},
   "source": [
    "## Imports and Data Processing"
   ]
  },
  {
   "cell_type": "code",
   "execution_count": 2,
   "metadata": {
    "ExecuteTime": {
     "end_time": "2019-08-22T13:57:14.190821Z",
     "start_time": "2019-08-22T13:57:14.112287Z"
    }
   },
   "outputs": [],
   "source": [
    "import uproot # TODO: remove"
   ]
  },
  {
   "cell_type": "markdown",
   "metadata": {},
   "source": [
    "## General Definitions and Parameters"
   ]
  },
  {
   "cell_type": "code",
   "execution_count": 3,
   "metadata": {
    "ExecuteTime": {
     "end_time": "2019-08-22T13:57:14.194612Z",
     "start_time": "2019-08-22T13:57:14.191930Z"
    }
   },
   "outputs": [],
   "source": [
    "#### General function definitions:\n",
    "\n",
    "def f_polar_R(cartesian_x, cartesian_y):\n",
    "    return np.sqrt(cartesian_x * cartesian_x + cartesian_y * cartesian_y)\n",
    "\n",
    "def f_polar_Phi(cartesian_x, cartesian_y):\n",
    "    return np.arctan2(cartesian_y, cartesian_x)\n",
    "\n",
    "def f_distance(x_a, y_a, x_b, y_b):\n",
    "    return np.sqrt((x_b - x_a)**2 + (y_b - y_a)**2)"
   ]
  },
  {
   "cell_type": "code",
   "execution_count": 4,
   "metadata": {
    "ExecuteTime": {
     "end_time": "2019-08-22T13:57:14.212413Z",
     "start_time": "2019-08-22T13:57:14.195787Z"
    }
   },
   "outputs": [],
   "source": [
    "#### Fixed input parameters\n",
    "\n",
    "## PMT positions\n",
    "PMT_ID = np.array([1,2,3,4,5,6,7])\n",
    "PMT_position_x = np.array([-14.,-28,-14.,14.,28.,14.,0.])      # x-position PMTs in mm in cartesian coordinates\n",
    "PMT_position_y = np.array([-28.,0.,28.,28.,0.,-28.,0.])        # y-position PMTs in mm in cartesian coordinates\n",
    "PMT_position_R = f_polar_R(PMT_position_x, PMT_position_y)     # radial position PMTs in mm in polar coordinates\n",
    "PMT_position_Phi = f_polar_Phi(PMT_position_x, PMT_position_y) # angular position PMTs in rad in polar coordinates\n",
    "PMT_positions = pd.DataFrame(index=PMT_ID, data={'PMT_ID': PMT_ID, 'PMT_position_x': PMT_position_x, 'PMT_position_y': PMT_position_y, 'PMT_position_R': PMT_position_R, 'PMT_position_Phi': PMT_position_Phi})\n",
    "\n",
    "## Radius S2 region used to constrain radius reconstructed position\n",
    "p_TPC_radius = 35\n",
    "\n",
    "## Fit parameters LRFs\n",
    "## MC driven (R_PTFE = 95 %, T_meshes = 89.770509 %, lambda_LXe = 100 cm); \n",
    "## To be iteratively determined from data later\n",
    "fit_parameters_eta_v1 = np.array([[ 0.76784314,  0.04281434,  0.00264452, -0.16502946],\n",
    "       [ 0.86618744, -0.04220011,  0.00349323, -0.21111826],\n",
    "       [ 0.76836278,  0.0427951 ,  0.00265082, -0.16546435],\n",
    "       [ 0.76766095, -0.04280319,  0.00264167, -0.16492769],\n",
    "       [ 0.86537262, -0.04224966,  0.00347602, -0.20996557],\n",
    "       [ 0.76728103,  0.04285181,  0.00263252, -0.16423993],\n",
    "       [-0.02781789,  1.27335415, -0.01554958,  0.56522927]])\n",
    "fit_parameters_eta_v2 = np.array([[  0.5862075 ,  30.03753042,  -0.34682365,   4.18897093,  2.59854272],\n",
    "       [  0.6389123 ,  29.31198247,  -0.3388027 ,   4.04470674,  2.63577199],\n",
    "       [  0.58620791,  29.9885029 ,  -0.34004891,   4.17451146,  2.60269506],\n",
    "       [  0.58610133,  30.01226409,  -0.33813655,   4.17468471,  2.59997022],\n",
    "       [  0.6394532 ,  29.50418414,  -0.37196722,   4.10965579,  2.62267883],\n",
    "       [  0.58654552,  30.13917691,  -0.36157398,   4.22025887,  2.59104887],\n",
    "       [  0.53325685,  39.60254022, -18.11911918,  20.76666722,  2.24994645]])\n",
    "fit_parameters_eta_v3 = np.array([[14.98906971,  6.01402517,  0.6260277 ,  0.03175688],\n",
    "       [15.0328818 ,  5.88840721,  0.67446688,  0.03821948],\n",
    "       [14.99645946,  6.01064072,  0.62595618,  0.03176641],\n",
    "       [14.99212962,  6.01742089,  0.62604177,  0.03172401],\n",
    "       [15.00980035,  5.90048797,  0.67550156,  0.03817195],\n",
    "       [14.96863869,  6.02563842,  0.62689395,  0.03171014],\n",
    "       [14.42475061,  4.6118038 ,  0.46425292,  0.09923257]])\n",
    "fit_parameters_eta_v4 = np.array([[ 1.50458218e+01,  5.24536009e+00,  5.56365828e-01,  7.80021868e-02, -8.70727228e-04],\n",
    "       [ 1.50495274e+01,  5.12846441e+00,  5.96407767e-01,  9.21654167e-02, -1.05651169e-03],\n",
    "       [ 1.50530290e+01,  5.24107977e+00,  5.56230036e-01,  7.80704244e-02, -8.71867254e-04],\n",
    "       [ 1.50492943e+01,  5.24533429e+00,  5.56099760e-01,  7.81532305e-02, -8.74082128e-04],\n",
    "       [ 1.50294150e+01,  5.14635567e+00,  5.97943157e-01,  9.16457735e-02, -1.04685791e-03],\n",
    "       [ 1.50284661e+01,  5.25817388e+00,  5.57305438e-01,  7.77962504e-02, -8.67398231e-04],\n",
    "       [ 1.45326430e+01,  5.59447419e+00,  6.41420473e-01,  -5.34046071e-02,  4.27492085e-03]])"
   ]
  },
  {
   "cell_type": "markdown",
   "metadata": {},
   "source": [
    "## Reconstruction Algorithm"
   ]
  },
  {
   "cell_type": "code",
   "execution_count": 5,
   "metadata": {
    "ExecuteTime": {
     "end_time": "2019-08-22T13:57:14.225294Z",
     "start_time": "2019-08-22T13:57:14.213969Z"
    }
   },
   "outputs": [],
   "source": [
    "#### Definition and selection of radial LRF model\n",
    "\n",
    "## Position Reconstruction in LUX, https://arxiv.org/abs/1710.02752v2\n",
    "def eta_v1(r, A, gamma, m, b):\n",
    "    return A / (1 + gamma ** 2 * r ** 2) ** (3/2) + m * r + b\n",
    "\n",
    "## Position Reconstruction in a Dual Phase Xenon Scintillation Detector, https://arxiv.org/abs/1112.1481\n",
    "def eta_v2(r, A, r0, a, b, alpha):\n",
    "    return A * exp( - a * (r/r0) / (1 + (r/r0) ** (1 - alpha)) - b / (1 + (r/r0) ** (- alpha)))   \n",
    "\n",
    "## Modified Woods Saxon Potential\n",
    "def eta_v3(r, R, a, V0, d):\n",
    "    return V0 / (1 + np.exp((r - R) / a)) + d\n",
    "\n",
    "## Modified Woods Saxon Potential + Linear\n",
    "def eta_v4(r, R, a, V0, d, m):\n",
    "    return V0 / (1 + np.exp((r - R) / a)) + d + m * r\n",
    "\n",
    "## Choice for LRF model\n",
    "model = eta_v2                  # default:  eta_v2\n",
    "modelstring = 'eta_v2'          # default: 'eta_v2'"
   ]
  },
  {
   "cell_type": "code",
   "execution_count": 6,
   "metadata": {
    "ExecuteTime": {
     "end_time": "2019-08-22T13:57:14.242519Z",
     "start_time": "2019-08-22T13:57:14.226791Z"
    }
   },
   "outputs": [],
   "source": [
    "#### Definition of metric q to be minimized\n",
    "\n",
    "## Function q to minimize for position reconstruction \n",
    "## Choose from: 'ChiSquared' 'LogLikelihoodRatio' 'WeightedChiSquared'\n",
    "minimizer = 'ChiSquared'        # default: 'ChiSquared'\n",
    "\n",
    "## Normalize LRFs to sum LRFs for all PMTs\n",
    "normalization_to_sum = True     # default: True\n",
    "\n",
    "## Ignore PMTs (i.e. set HF and LRF to 0) with light share below a specific threshold\n",
    "cut_LS_PMT = False              # default: False\n",
    "\n",
    "if cut_LS_PMT == True:\n",
    "    cut_LS_PMT_threshold = 0.04 # start playing around with 0.04 - 0.05\n",
    "\n",
    "## Mask to exclude PMTs not passing cut_LS_PMT_threshold\n",
    "def pass_cut_LS_PMT_threshold(HFs_input):\n",
    "    if cut_LS_PMT == True:\n",
    "        return (HFs_input >= cut_LS_PMT_threshold).astype(int)\n",
    "    if cut_LS_PMT == False:\n",
    "        return (np.array([1]*7))\n",
    "\n",
    "## LRF values for above conditions\n",
    "\n",
    "if normalization_to_sum == False: ## radial LRFs only\n",
    "    modelstring_save = modelstring\n",
    "    def LRF_PMTi(x, y, PMT, fitparameters):\n",
    "        fp = fitparameters[PMT-1]\n",
    "        return model(np.sqrt((x - PMT_positions['PMT_position_x'][PMT])**2 + (y - PMT_positions['PMT_position_y'][PMT])**2), *fp)\n",
    "    def LRF_PMTs(x, y, HFs_input, fitparameters):\n",
    "        return np.array([LRF_PMTi(x, y, j, fitparameters) for j in range(1,8)])*pass_cut_LS_PMT_threshold(HFs_input)\n",
    "    \n",
    "if normalization_to_sum == True: ## radial LRFs normalized to sum radial LRFs\n",
    "    modelstring_save = modelstring+'_overSum'\n",
    "    def LRF_PMTi(x, y, PMT, fitparameters):\n",
    "        fp = fitparameters[PMT-1]\n",
    "        return model(np.sqrt((x - PMT_positions['PMT_position_x'][PMT])**2 + (y - PMT_positions['PMT_position_y'][PMT])**2), *fp)\n",
    "    def LRF_PMTs(x, y, HFs_input, fitparameters):\n",
    "        LRF_PMTs_array = np.array([LRF_PMTi(x, y, j, fitparameters) for j in range(1,8)])*pass_cut_LS_PMT_threshold(HFs_input)\n",
    "        LRF_PMTs_array_uncut = np.array([LRF_PMTi(x, y, j, fitparameters) for j in range(1,8)])\n",
    "        return LRF_PMTs_array / (np.sum(LRF_PMTs_array_uncut))\n",
    "\n",
    "## Unweighted Chi squared from LRFs:\n",
    "\n",
    "if minimizer == 'ChiSquared':\n",
    "    modelstring_save = modelstring_save+'_Chi2'\n",
    "    \n",
    "    ## numerator [top of the fraction]\n",
    "    def numerator(x, y, HFs_input, fitparameters):\n",
    "        return (LRF_PMTs(x, y, HFs_input, fitparameters) - HFs_input*pass_cut_LS_PMT_threshold(HFs_input))**2\n",
    "    \n",
    "    ## denominator [bottom of a fraction]\n",
    "    def denominator(x, y, fitparameters):\n",
    "        return LRF_PMTs(x, y, (np.array([1]*7)), fitparameters)\n",
    "    \n",
    "    ## Chi²\n",
    "    def q(x, y, HFs_input, fitparameters):\n",
    "        return np.sum(numerator(x, y, HFs_input, fitparameters) / denominator(x, y, fitparameters))\n",
    "\n",
    "## Weighted Chi squared from LRFs:\n",
    "    \n",
    "if minimizer == 'WeightedChiSquared':\n",
    "    modelstring_save = modelstring_save+'_WChi2'\n",
    "    sigma = 1./3. # excess noise factor for each PMT, default: 1/3\n",
    "    \n",
    "    ## numerator [top of the fraction]\n",
    "    def numerator(x, y, HFs_input, fitparameters):\n",
    "        return (LRF_PMTs(x, y, HFs_input, fitparameters) - HFs_input*pass_cut_LS_PMT_threshold(HFs_input))**2\n",
    "    \n",
    "    ## denominator [bottom of a fraction]\n",
    "    def denominator(x, y, fitparameters):\n",
    "        return LRF_PMTs(x, y, (np.array([1]*7)), fitparameters) * (1 + sigma**2)\n",
    "    \n",
    "    ## Chi²\n",
    "    def q(x, y, HFs_input, fitparameters):\n",
    "        return np.sum(numerator(x, y, HFs_input, fitparameters) / denominator(x, y, fitparameters))\n",
    "\n",
    "## Log Likelihood Ratio from LRFs:    \n",
    "\n",
    "if minimizer == 'LogLikelihoodRatio':\n",
    "    modelstring_save = modelstring_save+'_LLR'\n",
    "    \n",
    "    def q(x, y, HFs_input, fitparameters):\n",
    "        summed = 0\n",
    "        for i in range(0,7):\n",
    "            if pass_cut_LS_PMT_threshold(HFs_input)[i] > 0:\n",
    "                summed += 2 * (LRF_PMTs(x, y, HFs_input, fitparameters)[i] - HFs_input[i]*pass_cut_LS_PMT_threshold(HFs_input)[i] + HFs_input[i]*pass_cut_LS_PMT_threshold(HFs_input)[i] * np.log( (HFs_input[i]*pass_cut_LS_PMT_threshold(HFs_input)[i]) / (LRF_PMTs(x, y, HFs_input, fitparameters)[i]) ))\n",
    "        return summed"
   ]
  },
  {
   "cell_type": "code",
   "execution_count": 7,
   "metadata": {
    "ExecuteTime": {
     "end_time": "2019-08-22T13:57:14.255543Z",
     "start_time": "2019-08-22T13:57:14.245627Z"
    }
   },
   "outputs": [],
   "source": [
    "#### Reconstruct position inside volume\n",
    "\n",
    "## Function to return non-negative value corresponding to (radial position - radius TPC) if inside TPC,\n",
    "## used for constraints\n",
    "\n",
    "def insidevolume(inputs):\n",
    "    return (p_TPC_radius - np.sqrt(inputs[0]**2 + inputs[1]**2))\n",
    "\n",
    "## Reconstruct position by minimizing q\n",
    "\n",
    "def reconstructed(HFs_input, fitparameters):\n",
    "    reconstruct = lambda x: q(x[0], x[1], HFs_input, fitparameters) # The objective function to be minimized.\n",
    "    x0 = [0.001,0.001] # Initial guess.\n",
    "    bnds = ((-35, 35), (-35, 35)) # Bounds on variables for L-BFGS-B, TNC, SLSQP and trust-constr methods.\n",
    "    meth = 'SLSQP' # Type of solver. 'BFGS' / 'L-BFGS-B' / 'SLSQP' / ...\n",
    "    cons = ({'type': 'ineq', \"fun\": insidevolume}) # Constraints definition (only for COBYLA, SLSQP and trust-constr).\n",
    "    ################################\n",
    "    # The optimization result represented as a OptimizeResult object:\n",
    "    #res = minimize(reconstruct, x0, method = meth)\n",
    "    #res = minimize(reconstruct, x0, bounds = bnds)\n",
    "    res = minimize(reconstruct, x0, method=meth, constraints=cons)\n",
    "    return res\n",
    "\n",
    "## Return reconstructed position as array([x, y])\n",
    "## using fitparameters from above\n",
    "## input: np.array of lenght (number top PMTs) i.e. 7 in XeBRA with pulse area fractions S2 signals\n",
    "##        or corresponding hits fraction for PMTs in numbered order\n",
    "##        and\n",
    "##        fitparameters of the LRFs\n",
    "\n",
    "def reconstructed_position(input_array, fitp):\n",
    "    HFs_inp = input_array / np.sum(input_array) # normalize to one to correspond to light share\n",
    "    return reconstructed(HFs_inp, fitp).x"
   ]
  },
  {
   "cell_type": "markdown",
   "metadata": {},
   "source": [
    "## Iterative Reconstruction"
   ]
  },
  {
   "cell_type": "code",
   "execution_count": 8,
   "metadata": {
    "ExecuteTime": {
     "end_time": "2019-08-22T13:57:14.268530Z",
     "start_time": "2019-08-22T13:57:14.256515Z"
    }
   },
   "outputs": [],
   "source": [
    "#### General settings\n",
    "\n",
    "## Maximum number of iterations\n",
    "iterations = 5\n",
    "\n",
    "## Fiducial radial cuts in mm\n",
    "rfiducial = 20          # fiducial cut on radial position in TPC, default: 20\n",
    "rfiducial_under = 15    # fiducial cut on radial distance from center individual PMT, default: 15\n",
    "\n",
    "## Fiducial radial cut central PMT in mm \n",
    "rfiducial_central = 32  # fiducial cut on radial position in TPC, default: 34 / 30\n",
    "\n",
    "## Fiducial radial cut 0th iteration in mm\n",
    "rfiducial0 = 34         # default: 34\n",
    "rfiducial0_under = -1   # default: -1, set to -1 to make inactive\n",
    "rfiducial0_central = 34 # default: 34"
   ]
  },
  {
   "cell_type": "code",
   "execution_count": null,
   "metadata": {},
   "outputs": [],
   "source": []
  },
  {
   "cell_type": "code",
   "execution_count": 9,
   "metadata": {
    "ExecuteTime": {
     "end_time": "2019-08-22T13:57:14.341504Z",
     "start_time": "2019-08-22T13:57:14.270131Z"
    }
   },
   "outputs": [
    {
     "data": {
      "text/plain": [
       "array([-30.14597879, -15.46811501])"
      ]
     },
     "execution_count": 9,
     "metadata": {},
     "output_type": "execute_result"
    }
   ],
   "source": [
    "HFs_measured = np.array([0.26336634, 0.44257426, 0.05346535, 0.02673267, 0.02376238, 0.04257426, 0.14752475])\n",
    "exec('fitparameters = fit_parameters_'+modelstring) # fit parameters for selcted model\n",
    "\n",
    "reconstructed_position(HFs_measured, fitparameters)"
   ]
  },
  {
   "cell_type": "code",
   "execution_count": null,
   "metadata": {},
   "outputs": [],
   "source": []
  }
 ],
 "metadata": {
  "kernelspec": {
   "display_name": "Python 3",
   "language": "python",
   "name": "python3"
  },
  "language_info": {
   "codemirror_mode": {
    "name": "ipython",
    "version": 3
   },
   "file_extension": ".py",
   "mimetype": "text/x-python",
   "name": "python",
   "nbconvert_exporter": "python",
   "pygments_lexer": "ipython3",
   "version": "3.7.3"
  },
  "toc": {
   "base_numbering": 1,
   "nav_menu": {
    "height": "132px",
    "width": "413px"
   },
   "number_sections": true,
   "sideBar": true,
   "skip_h1_title": false,
   "title_cell": "Table of Contents",
   "title_sidebar": "Contents",
   "toc_cell": false,
   "toc_position": {},
   "toc_section_display": true,
   "toc_window_display": false
  }
 },
 "nbformat": 4,
 "nbformat_minor": 2
}
