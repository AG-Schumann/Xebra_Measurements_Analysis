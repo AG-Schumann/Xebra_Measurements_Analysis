{
 "cells": [
  {
   "cell_type": "markdown",
   "metadata": {},
   "source": [
    "# Z-Position and dependencies of KR-83m events"
   ]
  },
  {
   "cell_type": "code",
   "execution_count": 1,
   "metadata": {},
   "outputs": [],
   "source": [
    "import numpy as np\n",
    "import matplotlib as mpl\n",
    "import matplotlib.pyplot as plt\n",
    "import matplotlib.colors as mcolors\n",
    "from matplotlib import colors\n",
    "from matplotlib.colors import LogNorm\n",
    "from matplotlib.ticker import AutoMinorLocator\n",
    "from matplotlib import gridspec\n",
    "from matplotlib.image import NonUniformImage\n",
    "from matplotlib.patches import Rectangle\n",
    "import math\n",
    "\n",
    "%matplotlib inline\n",
    "from scipy.optimize import curve_fit, minimize\n",
    "import strax\n",
    "import straxbra\n",
    "import matplotlib.gridspec as gridspec\n",
    "from matplotlib.patches import Rectangle\n",
    "import matplotlib.patches as patches\n",
    "\n",
    "import pandas as pd"
   ]
  },
  {
   "cell_type": "code",
   "execution_count": 2,
   "metadata": {},
   "outputs": [],
   "source": [
    "#import subprocess\n",
    "#subprocess.check_call([\"latex\"])"
   ]
  },
  {
   "cell_type": "markdown",
   "metadata": {},
   "source": [
    "## Data Import"
   ]
  },
  {
   "cell_type": "code",
   "execution_count": 3,
   "metadata": {},
   "outputs": [],
   "source": [
    "ctx = straxbra.XebraContext()"
   ]
  },
  {
   "cell_type": "code",
   "execution_count": 4,
   "metadata": {},
   "outputs": [],
   "source": [
    "run = '00158' # '00201' / '00158'\n",
    "filenameprefix = 'run_'+run\n",
    "peaks_data = ctx.get_array(run, 'peaks')"
   ]
  },
  {
   "cell_type": "code",
   "execution_count": 5,
   "metadata": {},
   "outputs": [
    {
     "data": {
      "text/html": [
       "<div>\n",
       "<style scoped>\n",
       "    .dataframe tbody tr th:only-of-type {\n",
       "        vertical-align: middle;\n",
       "    }\n",
       "\n",
       "    .dataframe tbody tr th {\n",
       "        vertical-align: top;\n",
       "    }\n",
       "\n",
       "    .dataframe thead th {\n",
       "        text-align: right;\n",
       "    }\n",
       "</style>\n",
       "<table border=\"1\" class=\"dataframe\">\n",
       "  <thead>\n",
       "    <tr style=\"text-align: right;\">\n",
       "      <th></th>\n",
       "      <th>Field name</th>\n",
       "      <th>Data type</th>\n",
       "      <th>Comment</th>\n",
       "    </tr>\n",
       "  </thead>\n",
       "  <tbody>\n",
       "    <tr>\n",
       "      <th>0</th>\n",
       "      <td>channel</td>\n",
       "      <td>int16</td>\n",
       "      <td>Channel/PMT number</td>\n",
       "    </tr>\n",
       "    <tr>\n",
       "      <th>1</th>\n",
       "      <td>dt</td>\n",
       "      <td>int16</td>\n",
       "      <td>Time resolution in ns</td>\n",
       "    </tr>\n",
       "    <tr>\n",
       "      <th>2</th>\n",
       "      <td>time</td>\n",
       "      <td>int64</td>\n",
       "      <td>Start time of the interval (ns since unix epoch)</td>\n",
       "    </tr>\n",
       "    <tr>\n",
       "      <th>3</th>\n",
       "      <td>length</td>\n",
       "      <td>int32</td>\n",
       "      <td>Length of the interval in samples</td>\n",
       "    </tr>\n",
       "    <tr>\n",
       "      <th>4</th>\n",
       "      <td>area</td>\n",
       "      <td>float32</td>\n",
       "      <td>Integral across channels in photoelectrons</td>\n",
       "    </tr>\n",
       "    <tr>\n",
       "      <th>5</th>\n",
       "      <td>area_per_channel</td>\n",
       "      <td>('&lt;f4', (8,))</td>\n",
       "      <td>Integral per channel in PE</td>\n",
       "    </tr>\n",
       "    <tr>\n",
       "      <th>6</th>\n",
       "      <td>n_hits</td>\n",
       "      <td>int32</td>\n",
       "      <td>Number of hits from which peak was constructed...</td>\n",
       "    </tr>\n",
       "    <tr>\n",
       "      <th>7</th>\n",
       "      <td>data</td>\n",
       "      <td>('&lt;f4', (200,))</td>\n",
       "      <td>Waveform data in PE/sample (not PE/ns!)</td>\n",
       "    </tr>\n",
       "    <tr>\n",
       "      <th>8</th>\n",
       "      <td>width</td>\n",
       "      <td>('&lt;f4', (11,))</td>\n",
       "      <td>Peak widths in ns: range of central area fraction</td>\n",
       "    </tr>\n",
       "    <tr>\n",
       "      <th>9</th>\n",
       "      <td>area_decile_from_midpoint</td>\n",
       "      <td>('&lt;f4', (11,))</td>\n",
       "      <td>Peak widths in ns: area from midpoint</td>\n",
       "    </tr>\n",
       "    <tr>\n",
       "      <th>10</th>\n",
       "      <td>saturated_channel</td>\n",
       "      <td>('&lt;i2', (8,))</td>\n",
       "      <td>Check if channel is saturated</td>\n",
       "    </tr>\n",
       "    <tr>\n",
       "      <th>11</th>\n",
       "      <td>n_saturated_channels</td>\n",
       "      <td>int16</td>\n",
       "      <td>Total number of saturated channels</td>\n",
       "    </tr>\n",
       "  </tbody>\n",
       "</table>\n",
       "</div>"
      ],
      "text/plain": [
       "                   Field name        Data type  \\\n",
       "0                     channel            int16   \n",
       "1                          dt            int16   \n",
       "2                        time            int64   \n",
       "3                      length            int32   \n",
       "4                        area          float32   \n",
       "5            area_per_channel    ('<f4', (8,))   \n",
       "6                      n_hits            int32   \n",
       "7                        data  ('<f4', (200,))   \n",
       "8                       width   ('<f4', (11,))   \n",
       "9   area_decile_from_midpoint   ('<f4', (11,))   \n",
       "10          saturated_channel    ('<i2', (8,))   \n",
       "11       n_saturated_channels            int16   \n",
       "\n",
       "                                              Comment  \n",
       "0                                  Channel/PMT number  \n",
       "1                               Time resolution in ns  \n",
       "2    Start time of the interval (ns since unix epoch)  \n",
       "3                   Length of the interval in samples  \n",
       "4          Integral across channels in photoelectrons  \n",
       "5                          Integral per channel in PE  \n",
       "6   Number of hits from which peak was constructed...  \n",
       "7             Waveform data in PE/sample (not PE/ns!)  \n",
       "8   Peak widths in ns: range of central area fraction  \n",
       "9               Peak widths in ns: area from midpoint  \n",
       "10                      Check if channel is saturated  \n",
       "11                 Total number of saturated channels  "
      ]
     },
     "execution_count": 5,
     "metadata": {},
     "output_type": "execute_result"
    }
   ],
   "source": [
    "ctx.data_info('peaks')"
   ]
  },
  {
   "cell_type": "code",
   "execution_count": 6,
   "metadata": {},
   "outputs": [
    {
     "name": "stdout",
     "output_type": "stream",
     "text": [
      "(3969398, 200)\n"
     ]
    }
   ],
   "source": [
    "waveform = peaks_data['data']\n",
    "integral = peaks_data['area']\n",
    "width = peaks_data['width'][:,5] # 50 % width\n",
    "timestamp = peaks_data['time']\n",
    "area_per_channel = peaks_data['area_per_channel']\n",
    "risetime = -peaks_data['area_decile_from_midpoint'][:,1]\n",
    "print(waveform.shape)"
   ]
  },
  {
   "cell_type": "markdown",
   "metadata": {},
   "source": [
    "## Data Processing"
   ]
  },
  {
   "cell_type": "code",
   "execution_count": 7,
   "metadata": {},
   "outputs": [],
   "source": [
    "## Cut condition first and second Kr-83m S1\n",
    "\n",
    "def CutCondition(waveform, i):  \n",
    "    \n",
    "    FirstPeak_area = sum(waveform[i][:15]) # range in samples (not ns!)\n",
    "    Risetime_first_peak = np.argmax(waveform[i][:15])*10 # peak time in ns, sampling rate digitizer 10^8 GHz\n",
    "    SecondPeak_area = sum(waveform[i][15:]) # range in samples (not ns!)\n",
    "    Risetime_second_peak = np.argmax(waveform[i][15:])*10 # peak time in ns, sampling rate digitizer 10^8 GHz\n",
    "    \n",
    "    if  FirstPeak_area > 100 and FirstPeak_area < 600 and SecondPeak_area > 40 and SecondPeak_area  < 200: \n",
    "        #print (i , secondS1_area, secondS1_peaktime)\n",
    "        return(True, Risetime_first_peak, Risetime_second_peak)\n",
    "    else:\n",
    "        return(False, 0, 0)\n",
    "    "
   ]
  },
  {
   "cell_type": "code",
   "execution_count": 8,
   "metadata": {},
   "outputs": [],
   "source": [
    "def Process(waveform, i):\n",
    "\n",
    "    CutFlag, Risetime_first_peak, Risetime_second_peak = CutCondition(waveform, i)\n",
    "    if CutFlag == True:\n",
    "        \n",
    "        found = False\n",
    "        k = 1\n",
    "        \n",
    "        time_limit = 65000 # 65000 for E_D = 50 V/cm\n",
    "        \n",
    "        #while(found == False and k <= 9):\n",
    "        while(found == False and timestamp[i+k] < timestamp[i]+time_limit):\n",
    "            \n",
    "            #if integral[i+k] > 300 and width[i+k] >200 and width[i+k] < 2000 and timestamp[i+k] < timestamp[i]+time_limit:\n",
    "            if integral[i+k] > 300 and width[i+k] >200 and width[i+k] < 2000: \n",
    "                Kr_S2_area.append(integral[i+k])\n",
    "                Kr_S2_width.append(width[i+k])\n",
    "                Kr_S2_risetime.append(risetime[i+k])\n",
    "                Kr_drifttime.append(timestamp[i+k] - timestamp[i])\n",
    "                \n",
    "                found = True\n",
    "                \n",
    "            else:\n",
    "                k = k+1"
   ]
  },
  {
   "cell_type": "code",
   "execution_count": 9,
   "metadata": {},
   "outputs": [
    {
     "name": "stdout",
     "output_type": "stream",
     "text": [
      "0.0 0.1 0.2 0.3 0.4 0.5 0.6 0.7 0.8 0.9 1.0\n"
     ]
    }
   ],
   "source": [
    "num = len(waveform)\n",
    "\n",
    "Kr_S2_area = []\n",
    "Kr_S2_width = []\n",
    "Kr_S2_risetime = []\n",
    "Kr_drifttime = []\n",
    "\n",
    "print_counter = 0.0\n",
    "for i in range(0,num):\n",
    "    \n",
    "    Process(waveform,i)\n",
    "    \n",
    "    if i/num >= print_counter:\n",
    "        print(round(print_counter,2), end = ' ')\n",
    "        print_counter += 0.1\n",
    "        \n",
    "print(1.0)"
   ]
  },
  {
   "cell_type": "code",
   "execution_count": 18,
   "metadata": {},
   "outputs": [
    {
     "data": {
      "text/plain": [
       "(99,)"
      ]
     },
     "execution_count": 18,
     "metadata": {},
     "output_type": "execute_result"
    }
   ],
   "source": [
    "bins_x.shape\n",
    "counts.shape"
   ]
  },
  {
   "cell_type": "code",
   "execution_count": 20,
   "metadata": {},
   "outputs": [
    {
     "data": {
      "text/plain": [
       "(99,)"
      ]
     },
     "execution_count": 20,
     "metadata": {},
     "output_type": "execute_result"
    }
   ],
   "source": [
    "bins_x_center = (bins_x[1:] + bins_x[:-1])/2\n",
    "bins_x_center.shape"
   ]
  },
  {
   "cell_type": "code",
   "execution_count": 23,
   "metadata": {},
   "outputs": [
    {
     "data": {
      "image/png": "[encoded data removed]",
      "text/plain": [
       "<Figure size 1296x936 with 1 Axes>"
      ]
     },
     "metadata": {
      "needs_background": "light"
     },
     "output_type": "display_data"
    }
   ],
   "source": [
    "fig, ax = plt.subplots(figsize=(18,13))\n",
    "\n",
    "time_limit = 65000 # 65000 for E_D = 50 V/cm\n",
    "bins_x = np.linspace(0,time_limit,100)\n",
    "bins_x_center = (bins_x[1:] + bins_x[:-1])/2\n",
    "\n",
    "bin_fullwidths = (bins_x[1:] - bins_x[:-1])\n",
    "counts,_, patches = plt.hist(Kr_drifttime, edgecolor='white', bins=bins_x, color='C2')\n",
    "\n",
    "plt.scatter(bins_x_center, counts)\n",
    "\n",
    "xlim()\n",
    "ax.set_xlabel('Drift Time [ns]')\n",
    "ax.set_ylabel('Counts')\n",
    "\n",
    "plt.show()"
   ]
  },
  {
   "cell_type": "code",
   "execution_count": null,
   "metadata": {},
   "outputs": [],
   "source": [
    "def linbox(x, a, b):\n",
    "    return "
   ]
  }
 ],
 "metadata": {
  "kernelspec": {
   "display_name": "Python [conda env:strax]",
   "language": "python",
   "name": "conda-env-strax-py"
  },
  "language_info": {
   "codemirror_mode": {
    "name": "ipython",
    "version": 3
   },
   "file_extension": ".py",
   "mimetype": "text/x-python",
   "name": "python",
   "nbconvert_exporter": "python",
   "pygments_lexer": "ipython3",
   "version": "3.7.3"
  }
 },
 "nbformat": 4,
 "nbformat_minor": 2
}
